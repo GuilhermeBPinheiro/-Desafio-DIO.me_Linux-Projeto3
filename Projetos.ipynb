{
  "nbformat": 4,
  "nbformat_minor": 0,
  "metadata": {
    "colab": {
      "provenance": [],
      "authorship_tag": "ABX9TyOzp1yvluYfx02vz/ivIo2b",
      "include_colab_link": true
    },
    "kernelspec": {
      "name": "python3",
      "display_name": "Python 3"
    },
    "language_info": {
      "name": "python"
    }
  },
  "cells": [
    {
      "cell_type": "markdown",
      "metadata": {
        "id": "view-in-github",
        "colab_type": "text"
      },
      "source": [
        "<a href=\"https://colab.research.google.com/github/GuilhermeBPinheiro/-Desafio-DIO.me_Linux-Projeto3/blob/main/Projetos.ipynb\" target=\"_parent\"><img src=\"https://colab.research.google.com/assets/colab-badge.svg\" alt=\"Open In Colab\"/></a>"
      ]
    },
    {
      "cell_type": "markdown",
      "source": [
        "# **Introdução**\n",
        "\n",
        "**Ken Youens-Clark**, autor de Tiny Python Projetcs (link para acesso: https://tinypythonprojects.com/). Resolver criar um livro para demostrar como escrever códigos Python eficaz, além de como usar testes para escrever e refatorar programas científicos .\n",
        "\n",
        "Então o Mastering Python for Bioinformatics surgiu (link para acesso: https://learning.oreilly.com/library/view/mastering-python-for/9781098100872/). É um guia prático mostra aos profissionais e estudantes de pós-doutorado em bioinformática como explorar as melhores partes do Python para resolver problemas em biologia enquanto criam software que tenha critérios de reprodutibilidade, logo que sejam reproduzíveis: validem seus  **parâmetros**, produzem  **documentação**, e sejam **testáveis** (falhem normalmente e funcionem de maneira confiável  verificação de bugs).\n"
      ],
      "metadata": {
        "id": "k3Nzrw3R50cC"
      }
    },
    {
      "cell_type": "markdown",
      "source": [
        "# **Referência**\n",
        "\n",
        "Ken Youens-Clark. Dominando Python para Bioinformática. 1ªEd. O’Reilly, May, 2021 – 454 pág. Disponível em: https://learning.oreilly.com/library/view/mastering-python-for/9781098100872/. Acesso em: 23 de Out de 2023.\n",
        "\n"
      ],
      "metadata": {
        "id": "ZV20BMqH6CLp"
      }
    },
    {
      "cell_type": "markdown",
      "source": [
        "# **Tópicos:**\n",
        "\n",
        "*\tCrie programas Python de linha de comando para documentar e validar parâmetros;\n",
        "*\tEscreva testes para verificar programas de refatoração e confirmar se estão corretos;\n",
        "*\tAbordar ideias de bioinformática usando estruturas de dados Python e módulos como Biopython;\n",
        "*\tCrie atalhos e fluxos de trabalho reproduzíveis usando makefiles;\n",
        "*\tAnalise formatos de arquivo essenciais de bioinformática, como FASTA e FASTQ;\n",
        "*\tEncontre padrões de texto usando expressões regulares;\n",
        "*\tUse funções de ordem superior em Python como filter(), map() e reduzir()."
      ],
      "metadata": {
        "id": "ufo4V5Xz6QUo"
      }
    },
    {
      "cell_type": "markdown",
      "source": [
        "# **Ferramentas:**\n",
        "\n",
        "*\t**Mypy:** é um verificador de tipo estático opcional para Python que visa combinar os benefícios da digitação dinâmica (ou \"duck\") e da digitação estática. Combina o poder expressivo e a conveniência do Python com um poderoso sistema de tipos e verificação de tipos em tempo de compilação. O tipo Mypy verifica programas Python padrão; execute-os usando qualquer VM Python basicamente sem sobrecarga de tempo de execução. Documentação: https://mypy.readthedocs.io/en/stable/.\n",
        "* **Pytest:** estrutura facilita a gravação de testes pequenos e legíveis e pode ser dimensionada para suportar testes funcionais complexos para aplicativos e bibliotecas. Documentação: https://docs.pytest.org/en/7.4.x/.\n",
        "* **Pylinkt:** é um verificador de bugs e qualidade de código fonte para a linguagem de programação Python. Ele segue o estilo recomendado pelo PEP 8, o guia de estilo do Python. É similar ao Pychecker mas inclui as seguintes funcionalidades: Verifica o comprimento de uma linha de código. Documentação: https://pylint.readthedocs.io/en/stable/.\n",
        "*\t**Flake8:** é uma ferramenta de linting Python que verifica sua base de código em busca de erros, problemas de estilo e complexidade. A biblioteca Flake8 é baseada em 3 ferramentas: PyFlakes (verifica se há erros em sua base de código Python), McCabe (verifica a complexidade de sua base de código Python) e pyCodestyle (verifica sua base de código Python em busca de problema de estilo em relação ao PEP8). Documentação: https://flake8.pycqa.org/en/latest/.\n",
        "*\t** BioPython:** é uma biblioteca ou uma suite de ferramentas escritas em Python para manipulação de dados biológicos. Documentação: https://biopython.org/wiki/Documentation.\n",
        "* **Argparse:** é uma ferramenta do Python que serve como analisador sintático para opções de linha de comando, argumentos e subcomandos. Documentação: https://docs.python.org/pt-br/3/library/argparse.html.\n"
      ],
      "metadata": {
        "id": "i6umjaVz6ZX-"
      }
    },
    {
      "cell_type": "markdown",
      "source": [
        "# **Paradigma de Programação:**\n",
        "\n",
        "* **Programação Funcional (FP):** em ciência da computação, programação funcional é um paradigma de programação que trata a computação como uma avaliação de funções matemáticas e que evita estados ou dados mutáveis. Ela enfatiza a aplicação de funções, em contraste da programação imperativa, que enfatiza mudanças no estado do programa. Referência: https://docs.python.org/3/howto/functional.html  apresenta um bom argumento sobre porque o Python é adequado para FP.\n",
        "\n",
        "* **Desenvolvimento Orientado a Testes (TDD):** ideia explicada em um livro com esse título escrito por Kent Beck (Addison-Wesley, 2002). O TDD defende escrever testes para o código antes de escrevê-lo. O ciclo típico envolve o seguinte:\n",
        "\n",
        "  I. Adicione um teste;\n",
        "\n",
        "  II. Execute todos os testes e veja se o novo teste falha;\n",
        "\n",
        "  III. Escreva o código;\n",
        "\n",
        "  IV. Execute testes;\n",
        "\n",
        "  V. Refatorar código;\n",
        "\n",
        "  VI. Repita.\n"
      ],
      "metadata": {
        "id": "Xu9al-oQ6sMW"
      }
    },
    {
      "cell_type": "markdown",
      "source": [
        "# **Regras:**\n",
        "\n",
        "* **Evitar o uso de Exceções:** gerenciar exceções para que elas não interrompam o fluxo de um programa Se eu achar que uma exceção é justificada, muitas vezes optarei por não a capturar e deixarei o programa travar., adiciona outro nível de complexidade. *A esse respeito, estou seguindo uma ideia de Joe Armstrong, o criador da linguagem Erlang, que disse: “O jeito Erlang é escrever o caminho feliz, e não escrever pequenas passagens sinuosas cheias de código de correção de erros”. Se você optar por escrever programas e módulos para lançamento público, precisará aprender muito mais sobre exceções e tratamento de erros.*\n",
        "\n",
        "* **Estrutura:** Autor: *“Embora o <Zen do Python> (https://peps.python.org/pep-0020/) diga “Deve haver uma – e de preferência apenas uma – maneira óbvia de fazer isso”, acredito que você pode aprender bastante tentando muitas abordagens diferentes para um problema. Perl foi minha porta de entrada para a bioinformática, e o espírito da comunidade Perl de “Há mais de uma maneira de fazer isso”; <TMTOWTDI> (https://en.wikipedia.org/wiki/Perl) ainda ressoa em mim.”*\n",
        "\n",
        "* **Sem uso de Notebooks:** código-fonte dos Notebooks é armazenado em JavaScript Object Notation (JSON) e não como texto orientado a linhas. Isso torna muito difícil usar ferramentas como diffencontrar diferenças entre dois notebooks. Além disso, os Notebooks não podem ser parametrizados, o que significa que não posso passar argumentos de fora do programa para alterar o comportamento, mas sim alterar o próprio código-fonte. Isso torna os programas inflexíveis e os testes automatizados impossíveis. Embora eu incentive você a explorar Notebooks, especialmente como uma forma interativa de executar Python, vou me concentrar em como escrever programas de linha de comando.\n"
      ],
      "metadata": {
        "id": "yjgp6KcN6-dS"
      }
    },
    {
      "cell_type": "markdown",
      "source": [
        "# **Conceitos para Estudar:**\n",
        "\n",
        "* Variáveis Globais x Locais. Referência: https://automacaoweb.wordpress.com/2020/09/18/variaveis-globais-x-variaveis-locais/.\n",
        "* Programação Orientada a Objetos x Programação Estruturada. Referência: https://www.devmedia.com.br/programacao-orientada-a-objetos-e-programacao-estruturada/32813#:~:text=Portanto%2C%20como%20vimos%20no%20decorrer,e%20fun%C3%A7%C3%B5es%20definidas%20pelo%20usu%C3%A1rio.\n",
        "* Servidores Linux. Referência: https://www.certificacaolinux.com.br/servidor-linux/.\n",
        "* Distribuições Linux: Ubuntu x Debian. Referência: https://blog.betrybe.com/distribuicoes-linux/.\n",
        "* Shell Script: é uma linguagem de script utilizada em alguns sistemas operacionais, principalmente em sistemas GNU/Linux. Atualmente existem vários programas tipo Shell. Além dos principais - sh e bash -, existem também: ksh, zsh, csh e tcsh. Um script em Shell necessita basicamente do interpretador Shell. Referência: https://www.devmedia.com.br/introducao-ao-shell-script-no-linux/25778.\n",
        "* Computação de Alto Desempenho (HPC). Referência: https://www.oracle.com/br/cloud/hpc/what-is-hpc/.\n",
        "* Docker. Referência: https://nelson-souza.medium.com/docker-virtualbox-linux-c57596256af6.\n",
        "* Macintosh. Referência: https://www.google.com/search?q=Macintosh&rlz=1C1KNTJ_pt-BRBR999BR999&sourceid=chrome&ie=UTF-8.\n",
        "* Shell Windows (CMD  PowerShell) x GNU/Linux (Bash). Referência: https://www.quora.com/What-is-the-difference-between-CMD-Git-Bash-and-PowerShell.\n",
        "* Ambientes de Desenvolvimento Integrados (IDEs) - Ex.: VS Code, PyCharm ou Spyder. Referência: https://paulovasconcellos.com.br/quais-s%C3%A3o-as-melhores-ide-para-python-confira-a-lista-279b54bef301.\n",
        "* Editores de Textos – Ex.: Vim Editor, Sublime, TextMate ou Notepad++. Referência: https://cursos.alura.com.br/forum/topico-notepad-ou-sublime-130108\n",
        "* Gerenciador de Pacotes – Ex. Ubuntu (apt) e Mac (brew). Referências: https://br-mac.org/2012/09/apt-get-no-mac-gerenciadores-de-pacotes-para-o-os-x.html.\n",
        "* Python. Referência: https://www.python.org/downloads/.\n",
        "* Distribuição Anaconda Python. Referência: https://www.anaconda.com/ | http://leg.ufpr.br/~walmes/ensino/dsbd-linprog/instalacao-anaconda.html#:~:text=O%20Anaconda%20pode%20ser%20entendido,Python%3A%20python3.\n",
        "* Google Colab x Jupyter. Referências: https://cursos.alura.com.br/forum/topico-quais-plataformas-sao-usadas-para-data-science-no-mercado-de-trabalho-176750.\n"
      ],
      "metadata": {
        "id": "OKALLJqH7Y8t"
      }
    },
    {
      "cell_type": "markdown",
      "source": [
        "# **Configuração do Ambiente Virtual:**\n",
        "\n",
        "*\tUbuntu Windows Subsytem for Linux (WSL) – Version 1.0 --> tenha uma linha de comando Unix verdadeira.\n",
        "* IDEs Visual Studio Code (VS Code) – Version 1.83 --> escrever, executar e testar programas.\n",
        "*\tPython – Version 3.86 e 3.9.1 --> linguagem de programação para executar os testes.\n",
        "* Ubuntu Linux - Apt-Get --> gerenciador de pacotes.\n",
        "* Google Colab --> divulgar e documentar informações.\n"
      ],
      "metadata": {
        "id": "gtAFuHGw7v_5"
      }
    },
    {
      "cell_type": "markdown",
      "source": [
        "# **Os “14” Desafios de Rosalind de Youens**\n",
        "\n",
        "* Plataforma: Rosalind. Link de acesso: https://rosalind.info/about/.\n",
        "* Repositório: Biofx_Python. Link de acesso: https://github.com/GuilhermeBPinheiro/biofx_python.\n"
      ],
      "metadata": {
        "id": "5QjTSrRy8PXc"
      }
    },
    {
      "cell_type": "markdown",
      "source": [
        "# **Instalando Módulos**\n",
        "\n",
        "Você precisará instalar vários módulos e ferramentas Python. Incluí um arquivo requisitos.txt no nível superior do repositório. Este arquivo lista todos os módulos necessários para executar os programas do livro.\n"
      ],
      "metadata": {
        "id": "T9hkvu864451"
      }
    },
    {
      "cell_type": "markdown",
      "source": [
        "## Listas de Módulos:\n",
        "* biopython\n",
        "* black\n",
        "* csvkit\n",
        "* csvchk\n",
        "* flake8\n",
        "* graphviz\n",
        "* iteration_utilities\n",
        "* mypy\n",
        "* new-py\n",
        "* pandas\n",
        "* pylint\n",
        "* pytest\n",
        "* pytest-flake8\n",
        "* pytest-mypy\n",
        "* pytest-pylint\n",
        "* requests\n",
        "* rich\n",
        "* tabulate\n",
        "* yapf\n",
        "* seqmagick"
      ],
      "metadata": {
        "id": "QpsWizpR5zXz"
      }
    },
    {
      "cell_type": "code",
      "execution_count": null,
      "metadata": {
        "id": "x6ZzVMNC4QqX"
      },
      "outputs": [],
      "source": [
        "$ python3 -m pip install -r requisitos.txt"
      ]
    }
  ]
}